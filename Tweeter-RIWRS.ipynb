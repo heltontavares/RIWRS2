{
 "cells": [
  {
   "cell_type": "code",
   "execution_count": 20,
   "metadata": {},
   "outputs": [],
   "source": [
    "%matplotlib inline\n",
    "\n",
    "from tweepy import OAuthHandler\n",
    "from tweepy import Stream\n",
    "from tweepy.streaming import StreamListener\n",
    "import time"
   ]
  },
  {
   "cell_type": "code",
   "execution_count": 2,
   "metadata": {
    "collapsed": true
   },
   "outputs": [],
   "source": [
    "# setup security \n",
    "access_token = '54004923-zfKkBI44WieJcsdOKmRaAlDwTC6qjpK9uU9CNsuSA'\n",
    "access_token_secret = 'KGcZxw4ZCzZb3SwPhTA8QaxY5GzD4aAGTCBeXFqxiKWVs'\n",
    "consumer_key = '9tuVBTnXD0mavJNoV1Jx7zzQN'\n",
    "consumer_secret = 'Z1sAS2Jk8fRXs04nUImVEGooQ3vfiMIPewA6UQNVyM5Vk1yIwI'\n",
    "\n",
    "# setup file store\n",
    "file = 'C:/Users/Helton/Documents/PUC/RIWRS/tweets-sample.json'"
   ]
  },
  {
   "cell_type": "code",
   "execution_count": 3,
   "metadata": {
    "collapsed": true
   },
   "outputs": [],
   "source": [
    "class MyListener(StreamListener):\n",
    "        \n",
    "    \n",
    "    def __init__(self, file):\n",
    "        global the_file\n",
    "        self.the_file = open(file, 'w')\n",
    "        \n",
    "    def on_data(self, data):\n",
    "        self.the_file.write(data)\n",
    "        return True\n",
    "    \n",
    "    def on_error(self, status):\n",
    "        print(status)\n",
    "        \n",
    "    def file_close(self):\n",
    "        self.the_file.close()"
   ]
  },
  {
   "cell_type": "code",
   "execution_count": 41,
   "metadata": {},
   "outputs": [
    {
     "name": "stdout",
     "output_type": "stream",
     "text": [
      "**Finish**\n"
     ]
    }
   ],
   "source": [
    "listener = MyListener(file)\n",
    "oauth = OAuthHandler(consumer_key, consumer_secret)\n",
    "oauth.set_access_token(access_token, access_token_secret)\n",
    "\n",
    "max_time = 120 # in seconds\n",
    "start_time = time.time() \n",
    "\n",
    "## collecting...\n",
    "stream = Stream(oauth, listener)\n",
    "#stream.filter(track=['copa', 'neymar', 'messi'],async=True,languages=['pt'])\n",
    "stream.filter(track=['E3 2018', 'Assassins Creed', 'The Last Of Us', 'Fallout 76', 'Devil May Cry'],async=True)\n",
    "\n",
    "elapsed_time = (time.time() - start_time)\n",
    "while  elapsed_time < max_time:\n",
    "    elapsed_time = (time.time() - start_time)\n",
    "\n",
    "    \n",
    "print('**Finish**')\n",
    "stream.disconnect()\n",
    "listener.file_close()"
   ]
  },
  {
   "cell_type": "code",
   "execution_count": 42,
   "metadata": {
    "collapsed": true
   },
   "outputs": [],
   "source": [
    "import json\n",
    "import pandas as pd\n",
    "import matplotlib.pyplot as plt"
   ]
  },
  {
   "cell_type": "code",
   "execution_count": 43,
   "metadata": {
    "collapsed": true
   },
   "outputs": [],
   "source": [
    "tweets_data = []\n",
    "tweets_file = open(file, \"r\")\n",
    "for line in tweets_file:\n",
    "    try:\n",
    "        tweet = json.loads(line)\n",
    "        tweets_data.append(tweet)\n",
    "    except:\n",
    "        continue"
   ]
  },
  {
   "cell_type": "code",
   "execution_count": 44,
   "metadata": {},
   "outputs": [
    {
     "name": "stdout",
     "output_type": "stream",
     "text": [
      "  lang                                               text country\n",
      "0   ja  RT @V_Jump: 「i☆Ris 4th Live Tour 2018～WONDERFU...    None\n",
      "1   en  @JVCom Dying Light 2\\nMetro Exodus\\nFallout 76...    None\n",
      "2   ja  RT @802Palette: 今夜の #FM802 #ハチパレ は\\n🎉2010年代アニメ...    None\n",
      "3   ja                    夢の話をしよう https://t.co/ZbIOyqrsOv    None\n",
      "4   ja  大ヒットオーディション番組『ル・ポールのドラァグ・レース』シーズン11へ更新 – ニュース ...    None\n",
      "5   ja  珠理奈、初女王の誓い「まだ私たちが戦わないところがある。卒業…しません」 https://t...    None\n",
      "6   ja  【超WSTV裏実況】アルゼンチン代表vsアイスランド代表～個の力で勝るアルゼンチンを組織のア...    None\n",
      "7   es  RT @nintenbit: Las penas, dicen, mejor en comp...    None\n",
      "8   en  RT @theGRADvocate: This is important. https://...    None\n",
      "9   ja  珠理奈、初女王の誓い「まだ私たちが戦わないところがある。卒業…しません」 https://t...    None\n"
     ]
    }
   ],
   "source": [
    "tweets = pd.DataFrame()\n",
    "\n",
    "tweets['lang'] = ''\n",
    "tweets['text'] = ''\n",
    "tweets['country'] = ''\n",
    "for tweet in tweets_data:\n",
    "    if 'lang' in tweet:\n",
    "        tweets.loc[len(tweets)] = [tweet['lang'],\n",
    "                               tweet['text'],\n",
    "                               tweet['place']['country'] if tweet['place'] != None else None]\n",
    "    \n",
    "print(tweets.head(10))"
   ]
  },
  {
   "cell_type": "code",
   "execution_count": 45,
   "metadata": {},
   "outputs": [
    {
     "data": {
      "text/plain": [
       "<matplotlib.axes._subplots.AxesSubplot at 0x979bf98>"
      ]
     },
     "execution_count": 45,
     "metadata": {},
     "output_type": "execute_result"
    },
    {
     "data": {
      "image/png": "[encoded data removed]",
      "text/plain": [
       "<matplotlib.figure.Figure at 0x958bc88>"
      ]
     },
     "metadata": {},
     "output_type": "display_data"
    }
   ],
   "source": [
    "tweets_by_lang = tweets['lang'].value_counts()\n",
    "\n",
    "fig, ax = plt.subplots()\n",
    "ax.tick_params(axis='x', labelsize=15)\n",
    "ax.tick_params(axis='y', labelsize=10)\n",
    "ax.set_xlabel('Languages', fontsize=15)\n",
    "ax.set_ylabel('Number of tweets' , fontsize=15)\n",
    "ax.set_title('Top 5 languages', fontsize=15, fontweight='bold')\n",
    "tweets_by_lang[:5].plot(ax=ax, kind='bar', color='red')"
   ]
  },
  {
   "cell_type": "code",
   "execution_count": 46,
   "metadata": {},
   "outputs": [
    {
     "data": {
      "text/plain": [
       "<matplotlib.axes._subplots.AxesSubplot at 0x97b9f28>"
      ]
     },
     "execution_count": 46,
     "metadata": {},
     "output_type": "execute_result"
    },
    {
     "data": {
      "image/png": "[encoded data removed]",
      "text/plain": [
       "<matplotlib.figure.Figure at 0x9ba2da0>"
      ]
     },
     "metadata": {},
     "output_type": "display_data"
    }
   ],
   "source": [
    "tweets_by_country = tweets['country'].value_counts()\n",
    "\n",
    "fig, ax = plt.subplots()\n",
    "ax.tick_params(axis='x', labelsize=15)\n",
    "ax.tick_params(axis='y', labelsize=10)\n",
    "ax.set_xlabel('Countries', fontsize=15)\n",
    "ax.set_ylabel('Number of tweets' , fontsize=15)\n",
    "ax.set_title('Top 5 countries', fontsize=15, fontweight='bold')\n",
    "tweets_by_country[:5].plot(ax=ax, kind='bar', color='blue')"
   ]
  },
  {
   "cell_type": "code",
   "execution_count": 47,
   "metadata": {
    "collapsed": true
   },
   "outputs": [],
   "source": [
    "import re\n",
    "def word_in_text(word, text):\n",
    "    word = word.lower()\n",
    "    text = text.lower()\n",
    "    match = re.search(word, text)\n",
    "    if match:\n",
    "        return True\n",
    "    return False"
   ]
  },
  {
   "cell_type": "code",
   "execution_count": 49,
   "metadata": {},
   "outputs": [
    {
     "data": {
      "text/html": [
       "<div>\n",
       "<style>\n",
       "    .dataframe thead tr:only-child th {\n",
       "        text-align: right;\n",
       "    }\n",
       "\n",
       "    .dataframe thead th {\n",
       "        text-align: left;\n",
       "    }\n",
       "\n",
       "    .dataframe tbody tr th {\n",
       "        vertical-align: top;\n",
       "    }\n",
       "</style>\n",
       "<table border=\"1\" class=\"dataframe\">\n",
       "  <thead>\n",
       "    <tr style=\"text-align: right;\">\n",
       "      <th></th>\n",
       "      <th>lang</th>\n",
       "      <th>text</th>\n",
       "      <th>country</th>\n",
       "      <th>player</th>\n",
       "    </tr>\n",
       "  </thead>\n",
       "  <tbody>\n",
       "    <tr>\n",
       "      <th>0</th>\n",
       "      <td>ja</td>\n",
       "      <td>RT @V_Jump: 「i☆Ris 4th Live Tour 2018～WONDERFU...</td>\n",
       "      <td>None</td>\n",
       "      <td>None</td>\n",
       "    </tr>\n",
       "    <tr>\n",
       "      <th>1</th>\n",
       "      <td>en</td>\n",
       "      <td>@JVCom Dying Light 2\\nMetro Exodus\\nFallout 76...</td>\n",
       "      <td>None</td>\n",
       "      <td>Fallout 76</td>\n",
       "    </tr>\n",
       "    <tr>\n",
       "      <th>2</th>\n",
       "      <td>ja</td>\n",
       "      <td>RT @802Palette: 今夜の #FM802 #ハチパレ は\\n🎉2010年代アニメ...</td>\n",
       "      <td>None</td>\n",
       "      <td>None</td>\n",
       "    </tr>\n",
       "    <tr>\n",
       "      <th>3</th>\n",
       "      <td>ja</td>\n",
       "      <td>夢の話をしよう https://t.co/ZbIOyqrsOv</td>\n",
       "      <td>None</td>\n",
       "      <td>None</td>\n",
       "    </tr>\n",
       "    <tr>\n",
       "      <th>4</th>\n",
       "      <td>ja</td>\n",
       "      <td>大ヒットオーディション番組『ル・ポールのドラァグ・レース』シーズン11へ更新 – ニュース ...</td>\n",
       "      <td>None</td>\n",
       "      <td>None</td>\n",
       "    </tr>\n",
       "    <tr>\n",
       "      <th>5</th>\n",
       "      <td>ja</td>\n",
       "      <td>珠理奈、初女王の誓い「まだ私たちが戦わないところがある。卒業…しません」 https://t...</td>\n",
       "      <td>None</td>\n",
       "      <td>None</td>\n",
       "    </tr>\n",
       "    <tr>\n",
       "      <th>6</th>\n",
       "      <td>ja</td>\n",
       "      <td>【超WSTV裏実況】アルゼンチン代表vsアイスランド代表～個の力で勝るアルゼンチンを組織のア...</td>\n",
       "      <td>None</td>\n",
       "      <td>None</td>\n",
       "    </tr>\n",
       "    <tr>\n",
       "      <th>7</th>\n",
       "      <td>es</td>\n",
       "      <td>RT @nintenbit: Las penas, dicen, mejor en comp...</td>\n",
       "      <td>None</td>\n",
       "      <td>None</td>\n",
       "    </tr>\n",
       "    <tr>\n",
       "      <th>8</th>\n",
       "      <td>en</td>\n",
       "      <td>RT @theGRADvocate: This is important. https://...</td>\n",
       "      <td>None</td>\n",
       "      <td>None</td>\n",
       "    </tr>\n",
       "    <tr>\n",
       "      <th>9</th>\n",
       "      <td>ja</td>\n",
       "      <td>珠理奈、初女王の誓い「まだ私たちが戦わないところがある。卒業…しません」 https://t...</td>\n",
       "      <td>None</td>\n",
       "      <td>None</td>\n",
       "    </tr>\n",
       "    <tr>\n",
       "      <th>10</th>\n",
       "      <td>en</td>\n",
       "      <td>@RandaliciousRS +\\nGTA SA\\nGTA V\\nAssassins Cr...</td>\n",
       "      <td>None</td>\n",
       "      <td>Assassins Creed</td>\n",
       "    </tr>\n",
       "    <tr>\n",
       "      <th>11</th>\n",
       "      <td>ja</td>\n",
       "      <td>珠理奈、初女王の誓い「まだ私たちが戦わないところがある。卒業…しません」 https://t...</td>\n",
       "      <td>None</td>\n",
       "      <td>None</td>\n",
       "    </tr>\n",
       "    <tr>\n",
       "      <th>12</th>\n",
       "      <td>ja</td>\n",
       "      <td>【2018/06/17 02:29:17】 粗利17385円(9.6%) シャープ SHAR...</td>\n",
       "      <td>None</td>\n",
       "      <td>None</td>\n",
       "    </tr>\n",
       "    <tr>\n",
       "      <th>13</th>\n",
       "      <td>en</td>\n",
       "      <td>RT @RPGSite: We went hands-on with Persona 3: ...</td>\n",
       "      <td>None</td>\n",
       "      <td>E3 2018</td>\n",
       "    </tr>\n",
       "    <tr>\n",
       "      <th>14</th>\n",
       "      <td>ja</td>\n",
       "      <td>珠理奈、初女王の誓い「まだ私たちが戦わないところがある。卒業…しません」 https://t...</td>\n",
       "      <td>None</td>\n",
       "      <td>None</td>\n",
       "    </tr>\n",
       "    <tr>\n",
       "      <th>15</th>\n",
       "      <td>en</td>\n",
       "      <td>RT @mikerugnetta: Unpopular Opinion Fallout 76...</td>\n",
       "      <td>None</td>\n",
       "      <td>Fallout 76</td>\n",
       "    </tr>\n",
       "    <tr>\n",
       "      <th>16</th>\n",
       "      <td>en</td>\n",
       "      <td>RT @TheYearIs20BC: Powerful photo showing Yosh...</td>\n",
       "      <td>None</td>\n",
       "      <td>None</td>\n",
       "    </tr>\n",
       "    <tr>\n",
       "      <th>17</th>\n",
       "      <td>en</td>\n",
       "      <td>RT @MPAVictoria: This is one of a number of op...</td>\n",
       "      <td>None</td>\n",
       "      <td>None</td>\n",
       "    </tr>\n",
       "    <tr>\n",
       "      <th>18</th>\n",
       "      <td>ja</td>\n",
       "      <td>女王珠理奈「１位でも卒業しない」アイドル頂点狙う https://t.co/V8c8KnNO...</td>\n",
       "      <td>None</td>\n",
       "      <td>None</td>\n",
       "    </tr>\n",
       "    <tr>\n",
       "      <th>19</th>\n",
       "      <td>en</td>\n",
       "      <td>RT @verge: Smash Bros. Ultimate fans can’t sta...</td>\n",
       "      <td>None</td>\n",
       "      <td>None</td>\n",
       "    </tr>\n",
       "  </tbody>\n",
       "</table>\n",
       "</div>"
      ],
      "text/plain": [
       "   lang                                               text country  \\\n",
       "0    ja  RT @V_Jump: 「i☆Ris 4th Live Tour 2018～WONDERFU...    None   \n",
       "1    en  @JVCom Dying Light 2\\nMetro Exodus\\nFallout 76...    None   \n",
       "2    ja  RT @802Palette: 今夜の #FM802 #ハチパレ は\\n🎉2010年代アニメ...    None   \n",
       "3    ja                    夢の話をしよう https://t.co/ZbIOyqrsOv    None   \n",
       "4    ja  大ヒットオーディション番組『ル・ポールのドラァグ・レース』シーズン11へ更新 – ニュース ...    None   \n",
       "5    ja  珠理奈、初女王の誓い「まだ私たちが戦わないところがある。卒業…しません」 https://t...    None   \n",
       "6    ja  【超WSTV裏実況】アルゼンチン代表vsアイスランド代表～個の力で勝るアルゼンチンを組織のア...    None   \n",
       "7    es  RT @nintenbit: Las penas, dicen, mejor en comp...    None   \n",
       "8    en  RT @theGRADvocate: This is important. https://...    None   \n",
       "9    ja  珠理奈、初女王の誓い「まだ私たちが戦わないところがある。卒業…しません」 https://t...    None   \n",
       "10   en  @RandaliciousRS +\\nGTA SA\\nGTA V\\nAssassins Cr...    None   \n",
       "11   ja  珠理奈、初女王の誓い「まだ私たちが戦わないところがある。卒業…しません」 https://t...    None   \n",
       "12   ja  【2018/06/17 02:29:17】 粗利17385円(9.6%) シャープ SHAR...    None   \n",
       "13   en  RT @RPGSite: We went hands-on with Persona 3: ...    None   \n",
       "14   ja  珠理奈、初女王の誓い「まだ私たちが戦わないところがある。卒業…しません」 https://t...    None   \n",
       "15   en  RT @mikerugnetta: Unpopular Opinion Fallout 76...    None   \n",
       "16   en  RT @TheYearIs20BC: Powerful photo showing Yosh...    None   \n",
       "17   en  RT @MPAVictoria: This is one of a number of op...    None   \n",
       "18   ja  女王珠理奈「１位でも卒業しない」アイドル頂点狙う https://t.co/V8c8KnNO...    None   \n",
       "19   en  RT @verge: Smash Bros. Ultimate fans can’t sta...    None   \n",
       "\n",
       "             player  \n",
       "0              None  \n",
       "1        Fallout 76  \n",
       "2              None  \n",
       "3              None  \n",
       "4              None  \n",
       "5              None  \n",
       "6              None  \n",
       "7              None  \n",
       "8              None  \n",
       "9              None  \n",
       "10  Assassins Creed  \n",
       "11             None  \n",
       "12             None  \n",
       "13          E3 2018  \n",
       "14             None  \n",
       "15       Fallout 76  \n",
       "16             None  \n",
       "17             None  \n",
       "18             None  \n",
       "19             None  "
      ]
     },
     "execution_count": 49,
     "metadata": {},
     "output_type": "execute_result"
    }
   ],
   "source": [
    "## filtrando aqueles q mais foram falados (termos mais influentes)\n",
    "players = []\n",
    "for tweet in tweets_data:\n",
    "    if 'text' in tweet:\n",
    "        if word_in_text('E3 2018', tweet['text']):\n",
    "            players.append('E3 2018')\n",
    "        elif word_in_text('Assassins Creed', tweet['text']):\n",
    "            players.append('Assassins Creed')\n",
    "        elif word_in_text('The Last Of Us', tweet['text']):\n",
    "            players.append('The Last Of Us')\n",
    "        elif word_in_text('Fallout 76', tweet['text']):\n",
    "            players.append('Fallout 76')\n",
    "        elif word_in_text('Devil May Cry', tweet['text']):\n",
    "            players.append('Devil May Cry')\n",
    "        else:\n",
    "            players.append('None')\n",
    "tweets['player'] = players\n",
    "tweets.head(20)"
   ]
  },
  {
   "cell_type": "code",
   "execution_count": 50,
   "metadata": {},
   "outputs": [
    {
     "data": {
      "text/plain": [
       "<matplotlib.axes._subplots.AxesSubplot at 0x95f0ac8>"
      ]
     },
     "execution_count": 50,
     "metadata": {},
     "output_type": "execute_result"
    },
    {
     "data": {
      "image/png": "[encoded data removed]",
      "text/plain": [
       "<matplotlib.figure.Figure at 0x7c04470>"
      ]
     },
     "metadata": {},
     "output_type": "display_data"
    }
   ],
   "source": [
    "tweets_by_player = tweets['player'].value_counts()\n",
    "\n",
    "fig, ax = plt.subplots()\n",
    "ax.tick_params(axis='x', labelsize=15)\n",
    "ax.tick_params(axis='y', labelsize=10)\n",
    "ax.set_xlabel('Players', fontsize=15)\n",
    "ax.set_ylabel('Number of tweets' , fontsize=15)\n",
    "ax.set_title('Top 5 players', fontsize=15, fontweight='bold')\n",
    "tweets_by_player[:6].plot(ax=ax, kind='bar', color='green')"
   ]
  }
 ],
 "metadata": {
  "kernelspec": {
   "display_name": "Python 3",
   "language": "python",
   "name": "python3"
  },
  "language_info": {
   "codemirror_mode": {
    "name": "ipython",
    "version": 3
   },
   "file_extension": ".py",
   "mimetype": "text/x-python",
   "name": "python",
   "nbconvert_exporter": "python",
   "pygments_lexer": "ipython3",
   "version": "3.6.2"
  }
 },
 "nbformat": 4,
 "nbformat_minor": 2
}
